{
 "cells": [
  {
   "cell_type": "markdown",
   "id": "07179d3e-4a1b-4ab1-aa24-2383db33c2ca",
   "metadata": {},
   "source": [
    "                                    *** Concepts Covered ***\n",
    "Tutorial 4 :  Split, Searching, Sorting"
   ]
  },
  {
   "cell_type": "markdown",
   "id": "7db191da-c3c6-4cc0-8799-b45e8bee584b",
   "metadata": {},
   "source": [
    "1. Split"
   ]
  },
  {
   "cell_type": "code",
   "execution_count": 12,
   "id": "51d11993-f18a-48b1-af4f-bd7bfe1e6219",
   "metadata": {},
   "outputs": [
    {
     "data": {
      "text/plain": [
       "[array([0, 1, 2, 3]), array([4, 5, 6, 7])]"
      ]
     },
     "execution_count": 12,
     "metadata": {},
     "output_type": "execute_result"
    }
   ],
   "source": [
    "import numpy as np\n",
    "\n",
    "#1D\n",
    "\n",
    "arr1=np.arange(8)\n",
    "arr2=np.array_split(arr1,2)\n",
    "arr2"
   ]
  },
  {
   "cell_type": "code",
   "execution_count": 7,
   "id": "bdd1760b-6ca1-4b04-b1b5-c3d88ccd8200",
   "metadata": {},
   "outputs": [
    {
     "data": {
      "text/plain": [
       "[array([0, 1]), array([2, 3]), array([4, 5]), array([6, 7])]"
      ]
     },
     "execution_count": 7,
     "metadata": {},
     "output_type": "execute_result"
    }
   ],
   "source": [
    "arr3=np.array_split(arr1,4)\n",
    "arr3"
   ]
  },
  {
   "cell_type": "code",
   "execution_count": 9,
   "id": "73787eb8-34c2-4d94-90f2-7721d8185e84",
   "metadata": {},
   "outputs": [
    {
     "data": {
      "text/plain": [
       "array([0, 1])"
      ]
     },
     "execution_count": 9,
     "metadata": {},
     "output_type": "execute_result"
    }
   ],
   "source": [
    "arr3[0]"
   ]
  },
  {
   "cell_type": "code",
   "execution_count": 11,
   "id": "da10e19d-1836-4401-bd8f-d2545b8b843b",
   "metadata": {},
   "outputs": [
    {
     "data": {
      "text/plain": [
       "array([2, 3])"
      ]
     },
     "execution_count": 11,
     "metadata": {},
     "output_type": "execute_result"
    }
   ],
   "source": [
    "arr3[1]"
   ]
  },
  {
   "cell_type": "code",
   "execution_count": 21,
   "id": "661e8eea-f44b-4b45-bb52-a77f75e803e7",
   "metadata": {},
   "outputs": [
    {
     "data": {
      "text/plain": [
       "[array([[1, 2],\n",
       "        [3, 4]]),\n",
       " array([[5, 6],\n",
       "        [7, 8]]),\n",
       " array([[ 9, 10]]),\n",
       " array([[11, 12]])]"
      ]
     },
     "execution_count": 21,
     "metadata": {},
     "output_type": "execute_result"
    }
   ],
   "source": [
    "#2D\n",
    "a1=np.array([[1, 2], [3, 4], [5, 6], [7, 8], [9, 10], [11, 12]])\n",
    "a2=np.array_split(a1,4)\n",
    "a2"
   ]
  },
  {
   "cell_type": "code",
   "execution_count": 24,
   "id": "254da0be-2c0c-430c-812a-a95cf63da8b7",
   "metadata": {},
   "outputs": [
    {
     "data": {
      "text/plain": [
       "[array([[ 1],\n",
       "        [ 4],\n",
       "        [ 7],\n",
       "        [10],\n",
       "        [13],\n",
       "        [16]]),\n",
       " array([[ 2],\n",
       "        [ 5],\n",
       "        [ 8],\n",
       "        [11],\n",
       "        [14],\n",
       "        [17]]),\n",
       " array([[ 3],\n",
       "        [ 6],\n",
       "        [ 9],\n",
       "        [12],\n",
       "        [15],\n",
       "        [18]])]"
      ]
     },
     "execution_count": 24,
     "metadata": {},
     "output_type": "execute_result"
    }
   ],
   "source": [
    "#Split the 2-D array into three 2-D arrays along rows. -> alternate is hsplit(),vsplit()\n",
    "arr=np.array([[1, 2, 3], [4, 5, 6], [7, 8, 9], [10, 11, 12], [13, 14, 15], [16, 17, 18]])\n",
    "newarr = np.array_split(arr, 3, axis=1)\n",
    "newarr"
   ]
  },
  {
   "cell_type": "markdown",
   "id": "5d5c9f32-19f4-4e78-ad99-7e70a3654e5f",
   "metadata": {},
   "source": [
    "2. Array Searching"
   ]
  },
  {
   "cell_type": "code",
   "execution_count": 5,
   "id": "d89111ba-ce4e-4d6a-b1e4-9fffef378f7d",
   "metadata": {},
   "outputs": [
    {
     "data": {
      "text/plain": [
       "(array([2, 4], dtype=int64),)"
      ]
     },
     "execution_count": 5,
     "metadata": {},
     "output_type": "execute_result"
    }
   ],
   "source": [
    "import numpy as np\n",
    "arr=np.array([1,2,3,4,3])\n",
    "x=np.where(arr==3)\n",
    "x"
   ]
  },
  {
   "cell_type": "code",
   "execution_count": 6,
   "id": "9a8d6ab5-1e0d-4beb-a308-080dd52eb196",
   "metadata": {},
   "outputs": [
    {
     "data": {
      "text/plain": [
       "(array([1, 3], dtype=int64),)"
      ]
     },
     "execution_count": 6,
     "metadata": {},
     "output_type": "execute_result"
    }
   ],
   "source": [
    "# Even values -> indices\n",
    "y=np.where(arr%2==0)\n",
    "y"
   ]
  },
  {
   "cell_type": "code",
   "execution_count": 17,
   "id": "ad0ce543-9994-41fc-9f9a-af94a69e1436",
   "metadata": {},
   "outputs": [
    {
     "data": {
      "text/plain": [
       "3"
      ]
     },
     "execution_count": 17,
     "metadata": {},
     "output_type": "execute_result"
    }
   ],
   "source": [
    "# Search in Sorted Array\n",
    "zrr=np.array([1,2,3,4,5,6,7,8,9,10])\n",
    "z=np.searchsorted(zrr,4)\n",
    "z"
   ]
  },
  {
   "cell_type": "code",
   "execution_count": 14,
   "id": "3ef255a1-a428-478d-a9d7-db970d83db44",
   "metadata": {},
   "outputs": [
    {
     "data": {
      "text/plain": [
       "8"
      ]
     },
     "execution_count": 14,
     "metadata": {},
     "output_type": "execute_result"
    }
   ],
   "source": [
    "# search from right side\n",
    "zrr=np.array([1,2,3,4,5,6,7,8,9,10])\n",
    "u=np.searchsorted(zrr,8,side=\"right\")\n",
    "u"
   ]
  },
  {
   "cell_type": "code",
   "execution_count": 18,
   "id": "e8b44c87-b945-4477-9242-902bd0b8e397",
   "metadata": {},
   "outputs": [
    {
     "data": {
      "text/plain": [
       "array([1, 3, 7], dtype=int64)"
      ]
     },
     "execution_count": 18,
     "metadata": {},
     "output_type": "execute_result"
    }
   ],
   "source": [
    "# search multiple values\n",
    "zrr=np.array([1,2,3,4,5,6,7,8,9,10])\n",
    "v=np.searchsorted(zrr,[2,4,8])\n",
    "v"
   ]
  },
  {
   "cell_type": "markdown",
   "id": "e7089c8a-cb65-4a0b-87c4-4a18c289fc2f",
   "metadata": {},
   "source": [
    "3. Sorting"
   ]
  },
  {
   "cell_type": "code",
   "execution_count": 23,
   "id": "09504c80-399a-4c13-a423-c13dbd7cc6c1",
   "metadata": {},
   "outputs": [
    {
     "data": {
      "text/plain": [
       "array([ 1,  2,  3,  5, 56])"
      ]
     },
     "execution_count": 23,
     "metadata": {},
     "output_type": "execute_result"
    }
   ],
   "source": [
    "import numpy as np\n",
    "crr=np.array([2,1,5,56,3])\n",
    "np.sort(crr)"
   ]
  },
  {
   "cell_type": "code",
   "execution_count": 25,
   "id": "4c68f295-b11d-4919-8ec2-0a872b8bc5ad",
   "metadata": {},
   "outputs": [
    {
     "data": {
      "text/plain": [
       "array(['apple', 'banana', 'gauva', 'grape', 'mango', 'orange'],\n",
       "      dtype='<U6')"
      ]
     },
     "execution_count": 25,
     "metadata": {},
     "output_type": "execute_result"
    }
   ],
   "source": [
    "drr=np.array(['banana','apple','mango','grape','orange','gauva'])\n",
    "np.sort(drr)"
   ]
  },
  {
   "cell_type": "code",
   "execution_count": 26,
   "id": "ff6cc957-744d-4ad5-9d22-0b16a9af6924",
   "metadata": {},
   "outputs": [
    {
     "data": {
      "text/plain": [
       "array(['False', 'False', 'True', 'True', 'True'], dtype='<U5')"
      ]
     },
     "execution_count": 26,
     "metadata": {},
     "output_type": "execute_result"
    }
   ],
   "source": [
    "err=np.array(['True','True','False','True','False'])\n",
    "np.sort(err)"
   ]
  },
  {
   "cell_type": "code",
   "execution_count": 27,
   "id": "1b52e279-4194-49e8-9b75-68671a8d2e9d",
   "metadata": {},
   "outputs": [
    {
     "data": {
      "text/plain": [
       "array([[1, 3, 5],\n",
       "       [0, 4, 9]])"
      ]
     },
     "execution_count": 27,
     "metadata": {},
     "output_type": "execute_result"
    }
   ],
   "source": [
    "frr=np.array([[3,5,1,],[4,0,9]])\n",
    "np.sort(frr)"
   ]
  },
  {
   "cell_type": "code",
   "execution_count": null,
   "id": "332fa84c-a549-4bc5-a1f0-fc8543788ed4",
   "metadata": {},
   "outputs": [],
   "source": []
  }
 ],
 "metadata": {
  "kernelspec": {
   "display_name": "Python 3 (ipykernel)",
   "language": "python",
   "name": "python3"
  },
  "language_info": {
   "codemirror_mode": {
    "name": "ipython",
    "version": 3
   },
   "file_extension": ".py",
   "mimetype": "text/x-python",
   "name": "python",
   "nbconvert_exporter": "python",
   "pygments_lexer": "ipython3",
   "version": "3.12.4"
  }
 },
 "nbformat": 4,
 "nbformat_minor": 5
}
