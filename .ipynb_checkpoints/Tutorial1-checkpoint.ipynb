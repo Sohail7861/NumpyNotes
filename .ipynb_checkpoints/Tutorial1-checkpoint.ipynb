{
 "cells": [
  {
   "cell_type": "markdown",
   "id": "d067f170-ad40-406a-ab4e-59752eac8c85",
   "metadata": {},
   "source": [
    "                                    *** Concepts Covered ***\n",
    "Tutorial 1 : Numpy Concept, Creating N-D Arrays and N-D Array Functions"
   ]
  },
  {
   "cell_type": "code",
   "execution_count": null,
   "id": "e0459200-4c06-44f5-98ba-cfcb14d9c067",
   "metadata": {},
   "outputs": [],
   "source": [
    "*Numpy-> Numerical Python,\n",
    "         N-D Array,\n",
    "         Low level Library,\n",
    "         Written in C and Fortran for High Level Mathematical functions,\n",
    "         Overcomes problem of running slower algorithms on python by using Multidimensional Arrays,\n",
    "         Useful for Linear Algebra, Fourier Transform, Random Number Capabilities,\n",
    "         Homogeneous, Fixed Item Size, Only be Numbers(Num, Float, Complex)"
   ]
  },
  {
   "cell_type": "markdown",
   "id": "a9b4ff9c-1937-49a4-ab1d-7898dbba026b",
   "metadata": {},
   "source": [
    "* Creating N-D Arrays"
   ]
  },
  {
   "cell_type": "code",
   "execution_count": 2,
   "id": "590f75f6-6339-4608-ab36-ed3dc4abcd21",
   "metadata": {},
   "outputs": [
    {
     "data": {
      "text/plain": [
       "array([1, 2, 3, 4])"
      ]
     },
     "execution_count": 2,
     "metadata": {},
     "output_type": "execute_result"
    }
   ],
   "source": [
    "import numpy as np           #Import Numpy\n",
    "arr1=np.array([1,2,3,4])\n",
    "arr1"
   ]
  },
  {
   "cell_type": "code",
   "execution_count": 5,
   "id": "7eebf5e9-cdc9-4788-8596-ec954fddaaa1",
   "metadata": {},
   "outputs": [
    {
     "data": {
      "text/plain": [
       "numpy.ndarray"
      ]
     },
     "execution_count": 5,
     "metadata": {},
     "output_type": "execute_result"
    }
   ],
   "source": [
    "type(arr1)  # Type Function"
   ]
  },
  {
   "cell_type": "code",
   "execution_count": 7,
   "id": "fb968cdc-66b8-4539-b3fe-42b87ecc4393",
   "metadata": {},
   "outputs": [
    {
     "data": {
      "text/plain": [
       "array([[1, 2, 3],\n",
       "       [4, 5, 6]])"
      ]
     },
     "execution_count": 7,
     "metadata": {},
     "output_type": "execute_result"
    }
   ],
   "source": [
    "# 2D Array\n",
    "arr2=np.array([[1,2,3],[4,5,6]])\n",
    "arr2"
   ]
  },
  {
   "cell_type": "code",
   "execution_count": 10,
   "id": "d6af5aa0-760a-4d4a-a818-6c00cb29672b",
   "metadata": {},
   "outputs": [
    {
     "data": {
      "text/plain": [
       "array([[0., 0., 0.],\n",
       "       [0., 0., 0.]])"
      ]
     },
     "execution_count": 10,
     "metadata": {},
     "output_type": "execute_result"
    }
   ],
   "source": [
    "# Zero Matrix\n",
    "arr3=np.zeros((2,3))\n",
    "arr3"
   ]
  },
  {
   "cell_type": "code",
   "execution_count": 12,
   "id": "97972137-4317-4714-8a98-2e4c398ed8e1",
   "metadata": {},
   "outputs": [
    {
     "data": {
      "text/plain": [
       "array([[1., 1., 1.],\n",
       "       [1., 1., 1.]])"
      ]
     },
     "execution_count": 12,
     "metadata": {},
     "output_type": "execute_result"
    }
   ],
   "source": [
    "# One Matrix\n",
    "arr4=np.ones((2,3))\n",
    "arr4"
   ]
  },
  {
   "cell_type": "code",
   "execution_count": 14,
   "id": "1dd87a5f-1116-407b-8b62-aa155eccfc4e",
   "metadata": {},
   "outputs": [
    {
     "data": {
      "text/plain": [
       "array([[1., 0., 0.],\n",
       "       [0., 1., 0.],\n",
       "       [0., 0., 1.]])"
      ]
     },
     "execution_count": 14,
     "metadata": {},
     "output_type": "execute_result"
    }
   ],
   "source": [
    "# Identity Matrix\n",
    "arr5=np.identity(3)\n",
    "arr5"
   ]
  },
  {
   "cell_type": "code",
   "execution_count": 15,
   "id": "014a8f80-bee2-4c28-a68e-7f15cc8b930d",
   "metadata": {},
   "outputs": [
    {
     "data": {
      "text/plain": [
       "array([0, 1, 2, 3, 4, 5, 6, 7, 8, 9])"
      ]
     },
     "execution_count": 15,
     "metadata": {},
     "output_type": "execute_result"
    }
   ],
   "source": [
    "# Values in a Range\n",
    "arr6=np.arange(10)\n",
    "arr6"
   ]
  },
  {
   "cell_type": "code",
   "execution_count": 16,
   "id": "74bfcea9-3c22-4457-a1b0-6a0d4f5cdcb0",
   "metadata": {},
   "outputs": [
    {
     "data": {
      "text/plain": [
       "array([10.        , 11.11111111, 12.22222222, 13.33333333, 14.44444444,\n",
       "       15.55555556, 16.66666667, 17.77777778, 18.88888889, 20.        ])"
      ]
     },
     "execution_count": 16,
     "metadata": {},
     "output_type": "execute_result"
    }
   ],
   "source": [
    "# LinearSpace\n",
    "arr7=np.linspace(10,20,10)  # 10 values between 10-20\n",
    "arr7"
   ]
  },
  {
   "cell_type": "code",
   "execution_count": 17,
   "id": "a7ece346-de0b-4842-ae6a-dfeb5c2be080",
   "metadata": {},
   "outputs": [
    {
     "data": {
      "text/plain": [
       "array([0, 1, 2, 3, 4, 5])"
      ]
     },
     "execution_count": 17,
     "metadata": {},
     "output_type": "execute_result"
    }
   ],
   "source": [
    "# Copy function\n",
    "arr8=np.arange(6)\n",
    "arr9=arr8.copy()\n",
    "arr9"
   ]
  },
  {
   "cell_type": "code",
   "execution_count": null,
   "id": "6c42070d-5a6d-4b75-bbee-cf958554d1dc",
   "metadata": {},
   "outputs": [],
   "source": []
  }
 ],
 "metadata": {
  "kernelspec": {
   "display_name": "Python 3 (ipykernel)",
   "language": "python",
   "name": "python3"
  },
  "language_info": {
   "codemirror_mode": {
    "name": "ipython",
    "version": 3
   },
   "file_extension": ".py",
   "mimetype": "text/x-python",
   "name": "python",
   "nbconvert_exporter": "python",
   "pygments_lexer": "ipython3",
   "version": "3.12.4"
  }
 },
 "nbformat": 4,
 "nbformat_minor": 5
}
