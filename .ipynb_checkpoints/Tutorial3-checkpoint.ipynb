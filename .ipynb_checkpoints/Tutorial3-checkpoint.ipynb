{
 "cells": [
  {
   "cell_type": "markdown",
   "id": "1c5f8377-7b1b-473c-97b0-a38c62eaec75",
   "metadata": {},
   "source": [
    "                                    *** Concepts Covered ***\n",
    "Tutorial 3 : Datatypes, Copy, View, Shape, Reshape"
   ]
  },
  {
   "cell_type": "markdown",
   "id": "440d3e26-a931-4fd1-a808-18698f10d800",
   "metadata": {},
   "source": [
    "1. Datatypes"
   ]
  },
  {
   "cell_type": "raw",
   "id": "9bb006fc-0fe0-480d-8540-c4f754f003a2",
   "metadata": {},
   "source": [
    "Numpy Datatypes\n",
    "\n",
    "i - integer\n",
    "b - boolean\n",
    "u - unsigned integer\n",
    "f - float\n",
    "c - complex float\n",
    "m - timedelta\n",
    "M - datetime\n",
    "O - object\n",
    "S - string\n",
    "U - unicode string\n",
    "V - fixed chunk of memory for other type ( void )"
   ]
  },
  {
   "cell_type": "code",
   "execution_count": 3,
   "id": "c5482d13-aded-40f7-8d28-23cd7b88185b",
   "metadata": {},
   "outputs": [
    {
     "data": {
      "text/plain": [
       "dtype('int32')"
      ]
     },
     "execution_count": 3,
     "metadata": {},
     "output_type": "execute_result"
    }
   ],
   "source": [
    "import numpy as np\n",
    "\n",
    "arr1=np.array([1,2,3,4,5])\n",
    "arr1.dtype"
   ]
  },
  {
   "cell_type": "code",
   "execution_count": 9,
   "id": "5cb6c5f6-88b6-4ff9-85b6-819c3d983dd2",
   "metadata": {},
   "outputs": [
    {
     "data": {
      "text/plain": [
       "dtype('S1')"
      ]
     },
     "execution_count": 9,
     "metadata": {},
     "output_type": "execute_result"
    }
   ],
   "source": [
    "arr2=np.array([[1,2,3,4]],dtype='S')\n",
    "arr2.dtype"
   ]
  },
  {
   "cell_type": "code",
   "execution_count": 10,
   "id": "600d1e00-f19f-4834-a81b-c330a0afe2c1",
   "metadata": {},
   "outputs": [
    {
     "data": {
      "text/plain": [
       "array([1.2, 2.1, 3.4, 4.3])"
      ]
     },
     "execution_count": 10,
     "metadata": {},
     "output_type": "execute_result"
    }
   ],
   "source": [
    "#TypeCasting\n",
    "arr3=np.array([1.2,2.1,3.4,4.3])\n",
    "arr3"
   ]
  },
  {
   "cell_type": "code",
   "execution_count": 11,
   "id": "0f9abb19-d4e6-4d2a-b70b-cdd9faef5a98",
   "metadata": {},
   "outputs": [
    {
     "data": {
      "text/plain": [
       "array([1, 2, 3, 4], dtype=int32)"
      ]
     },
     "execution_count": 11,
     "metadata": {},
     "output_type": "execute_result"
    }
   ],
   "source": [
    "arr4=arr3.astype('i')\n",
    "arr4"
   ]
  },
  {
   "cell_type": "code",
   "execution_count": 12,
   "id": "c89725bc-e5a1-4c0d-a0c7-8fd85afaff64",
   "metadata": {},
   "outputs": [
    {
     "data": {
      "text/plain": [
       "dtype('int32')"
      ]
     },
     "execution_count": 12,
     "metadata": {},
     "output_type": "execute_result"
    }
   ],
   "source": [
    "arr4.dtype"
   ]
  },
  {
   "cell_type": "markdown",
   "id": "af916253-f259-47d5-aa1f-b3a70cacd888",
   "metadata": {},
   "source": [
    "2. Copy"
   ]
  },
  {
   "cell_type": "code",
   "execution_count": 38,
   "id": "755c8fdd-2662-4eea-9379-64a969db8a02",
   "metadata": {},
   "outputs": [
    {
     "data": {
      "text/plain": [
       "array([10,  2,  3,  4])"
      ]
     },
     "execution_count": 38,
     "metadata": {},
     "output_type": "execute_result"
    }
   ],
   "source": [
    "# Copy -> The copy owns the data and any changes made to the copy will not affect original array, \n",
    "#         and any changes made to the original array will not affect the copy.\n",
    "\n",
    "a1=np.array([1,2,3,4])\n",
    "c1=a1.copy()\n",
    "a1[0]=10\n",
    "a1"
   ]
  },
  {
   "cell_type": "code",
   "execution_count": 39,
   "id": "d4e2ab49-b7ac-4827-9c3d-25979c09c88d",
   "metadata": {},
   "outputs": [
    {
     "data": {
      "text/plain": [
       "array([1, 2, 3, 4])"
      ]
     },
     "execution_count": 39,
     "metadata": {},
     "output_type": "execute_result"
    }
   ],
   "source": [
    "c1"
   ]
  },
  {
   "cell_type": "markdown",
   "id": "d6792caa-ad56-4e16-abef-3a6f37e71130",
   "metadata": {},
   "source": [
    "3. View"
   ]
  },
  {
   "cell_type": "code",
   "execution_count": 40,
   "id": "c5c6935e-103f-4aa4-9291-3155a28043c3",
   "metadata": {},
   "outputs": [
    {
     "data": {
      "text/plain": [
       "array([10,  2,  3,  4])"
      ]
     },
     "execution_count": 40,
     "metadata": {},
     "output_type": "execute_result"
    }
   ],
   "source": [
    "# View - The view does not own the data and any changes made to the view will affect the original array, \n",
    "#        and any changes made to the original array will affect the view.\n",
    "\n",
    "ar2=np.array([1,2,3,4])\n",
    "cp2=ar2.view()\n",
    "ar2[0]=10\n",
    "ar2"
   ]
  },
  {
   "cell_type": "code",
   "execution_count": 41,
   "id": "47981b47-ae20-4c6f-961f-62299b7bd003",
   "metadata": {},
   "outputs": [
    {
     "data": {
      "text/plain": [
       "array([10,  2,  3,  4])"
      ]
     },
     "execution_count": 41,
     "metadata": {},
     "output_type": "execute_result"
    }
   ],
   "source": [
    "cp2"
   ]
  },
  {
   "cell_type": "markdown",
   "id": "60be2eaf-da5d-4003-af1b-5c32885c904e",
   "metadata": {},
   "source": [
    "4. Shape"
   ]
  },
  {
   "cell_type": "code",
   "execution_count": 4,
   "id": "6a0c8a58-3eec-46ab-b80a-b04d148beafd",
   "metadata": {},
   "outputs": [
    {
     "data": {
      "text/plain": [
       "(10,)"
      ]
     },
     "execution_count": 4,
     "metadata": {},
     "output_type": "execute_result"
    }
   ],
   "source": [
    "import numpy as np\n",
    "\n",
    "a=np.arange(10)\n",
    "a.shape"
   ]
  },
  {
   "cell_type": "code",
   "execution_count": 5,
   "id": "f552bf80-92ed-4ca8-9e8c-25b3dcebbdca",
   "metadata": {},
   "outputs": [
    {
     "data": {
      "text/plain": [
       "(2, 3)"
      ]
     },
     "execution_count": 5,
     "metadata": {},
     "output_type": "execute_result"
    }
   ],
   "source": [
    "b=np.array([[1,2,3],[4,5,6]])\n",
    "b.shape"
   ]
  },
  {
   "cell_type": "markdown",
   "id": "4f4bd11c-3835-4271-a30d-fc681ed60fff",
   "metadata": {},
   "source": [
    "5. Reshape"
   ]
  },
  {
   "cell_type": "code",
   "execution_count": 6,
   "id": "ea561030-91aa-4037-aa22-843e1aa01f21",
   "metadata": {},
   "outputs": [
    {
     "data": {
      "text/plain": [
       "array([[ 0,  1,  2],\n",
       "       [ 3,  4,  5],\n",
       "       [ 6,  7,  8],\n",
       "       [ 9, 10, 11]])"
      ]
     },
     "execution_count": 6,
     "metadata": {},
     "output_type": "execute_result"
    }
   ],
   "source": [
    "# Reshape to 2D\n",
    "arrr1=np.arange(12)\n",
    "arrr2=arrr1.reshape(4,3)\n",
    "arrr2"
   ]
  },
  {
   "cell_type": "code",
   "execution_count": 10,
   "id": "cb3f524d-7e73-45e6-9ec2-1207546b36fb",
   "metadata": {},
   "outputs": [
    {
     "data": {
      "text/plain": [
       "array([[[ 0,  1],\n",
       "        [ 2,  3],\n",
       "        [ 4,  5]],\n",
       "\n",
       "       [[ 6,  7],\n",
       "        [ 8,  9],\n",
       "        [10, 11]]])"
      ]
     },
     "execution_count": 10,
     "metadata": {},
     "output_type": "execute_result"
    }
   ],
   "source": [
    "#Reshape to 3D\n",
    "arrr3=arrr1.reshape(2,3,2)\n",
    "arrr3"
   ]
  },
  {
   "cell_type": "code",
   "execution_count": 12,
   "id": "f91f1a1b-60c8-4c64-8ade-f0e1609e7365",
   "metadata": {},
   "outputs": [
    {
     "data": {
      "text/plain": [
       "array([1, 2, 3, 4, 5, 6])"
      ]
     },
     "execution_count": 12,
     "metadata": {},
     "output_type": "execute_result"
    }
   ],
   "source": [
    "#Flattening Array\n",
    "arrr4=np.array([[1,2,3],[4,5,6]])\n",
    "arrr5=arrr4.reshape(-1)\n",
    "arrr5"
   ]
  }
 ],
 "metadata": {
  "kernelspec": {
   "display_name": "Python 3 (ipykernel)",
   "language": "python",
   "name": "python3"
  },
  "language_info": {
   "codemirror_mode": {
    "name": "ipython",
    "version": 3
   },
   "file_extension": ".py",
   "mimetype": "text/x-python",
   "name": "python",
   "nbconvert_exporter": "python",
   "pygments_lexer": "ipython3",
   "version": "3.12.4"
  }
 },
 "nbformat": 4,
 "nbformat_minor": 5
}
