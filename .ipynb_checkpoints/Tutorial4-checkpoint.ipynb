{
 "cells": [
  {
   "cell_type": "markdown",
   "id": "7092f361-a1b6-4324-8861-d1d251bb793a",
   "metadata": {},
   "source": [
    "                                    *** Concepts Covered ***\n",
    "Tutorial 4 :  Iterating, nditer(),ndenumerate(),join-concatenate()&stack()"
   ]
  },
  {
   "cell_type": "markdown",
   "id": "4434c04d-2bc1-4d7e-b262-d5490f785f64",
   "metadata": {},
   "source": [
    "1. Iterating"
   ]
  },
  {
   "cell_type": "code",
   "execution_count": 1,
   "id": "972bbfab-6246-4686-b8df-b111b0361a02",
   "metadata": {},
   "outputs": [],
   "source": [
    "import numpy as np"
   ]
  },
  {
   "cell_type": "code",
   "execution_count": 10,
   "id": "c6f5afb7-a6e6-4903-b03b-1889ca999237",
   "metadata": {},
   "outputs": [
    {
     "name": "stdout",
     "output_type": "stream",
     "text": [
      "1\n",
      "2\n",
      "3\n",
      "4\n",
      "5\n"
     ]
    }
   ],
   "source": [
    "#1D\n",
    "arr1=np.array([1,2,3,4,5])\n",
    "for i in arr1:\n",
    "    print(i)"
   ]
  },
  {
   "cell_type": "code",
   "execution_count": 11,
   "id": "40e72840-3fd6-4c06-82cc-1575952ce45b",
   "metadata": {},
   "outputs": [
    {
     "name": "stdout",
     "output_type": "stream",
     "text": [
      "[1 2 3 4]\n",
      "[5 6 7 8]\n"
     ]
    }
   ],
   "source": [
    "#2D\n",
    "arr2=np.array([[1,2,3,4],[5,6,7,8]])\n",
    "for i in arr2:\n",
    "    print(i)"
   ]
  },
  {
   "cell_type": "code",
   "execution_count": 17,
   "id": "d172faf2-8793-485e-a865-d837522b3a58",
   "metadata": {},
   "outputs": [
    {
     "name": "stdout",
     "output_type": "stream",
     "text": [
      "1\n",
      "2\n",
      "3\n",
      "4\n",
      "5\n",
      "6\n",
      "7\n",
      "8\n"
     ]
    }
   ],
   "source": [
    "for i in arr2:\n",
    "    for j in i:\n",
    "        print(j)"
   ]
  },
  {
   "cell_type": "code",
   "execution_count": 21,
   "id": "63bfc0ea-0263-42fc-abd2-37065c1fae2d",
   "metadata": {},
   "outputs": [
    {
     "name": "stdout",
     "output_type": "stream",
     "text": [
      "[[1 2 3]\n",
      " [4 5 6]]\n",
      "[[ 7  8  9]\n",
      " [10 11 12]]\n"
     ]
    }
   ],
   "source": [
    "#3D\n",
    "arr3=np.array([[[1,2,3],[4,5,6]],[[7,8,9],[10,11,12]]])\n",
    "for i in arr3:\n",
    "    print(i)"
   ]
  },
  {
   "cell_type": "code",
   "execution_count": 22,
   "id": "76c2a567-5543-47d0-9646-23e756b8bfbc",
   "metadata": {},
   "outputs": [
    {
     "name": "stdout",
     "output_type": "stream",
     "text": [
      "1\n",
      "2\n",
      "3\n",
      "4\n",
      "5\n",
      "6\n",
      "7\n",
      "8\n",
      "9\n",
      "10\n",
      "11\n",
      "12\n"
     ]
    }
   ],
   "source": [
    "for i in arr3:\n",
    "    for j in i:\n",
    "        for k in j:\n",
    "            print(k)"
   ]
  },
  {
   "cell_type": "code",
   "execution_count": 25,
   "id": "4a60b679-0e2a-4188-8536-3963d22c9162",
   "metadata": {},
   "outputs": [
    {
     "name": "stdout",
     "output_type": "stream",
     "text": [
      "1\n",
      "2\n",
      "3\n",
      "4\n",
      "5\n",
      "6\n",
      "7\n",
      "8\n"
     ]
    }
   ],
   "source": [
    "#nditer() function\n",
    "arr4=np.array([[[1,2],[3,4]],[[5,6],[7,8]]])\n",
    "for x in np.nditer(arr4):\n",
    "    print(x)"
   ]
  },
  {
   "cell_type": "code",
   "execution_count": 27,
   "id": "c89e7101-0f8e-495d-820b-80b7070e05e5",
   "metadata": {},
   "outputs": [
    {
     "name": "stdout",
     "output_type": "stream",
     "text": [
      "b'1'\n",
      "b'2'\n",
      "b'3'\n",
      "b'4'\n",
      "b'5'\n"
     ]
    }
   ],
   "source": [
    "arr5=np.array([1,2,3,4,5])\n",
    "for i in np.nditer(arr5, flags=['buffered'], op_dtypes=['S']):\n",
    "    print(i)"
   ]
  },
  {
   "cell_type": "code",
   "execution_count": 28,
   "id": "93fa61fc-89fb-46b0-a974-fe04b40c33d9",
   "metadata": {},
   "outputs": [
    {
     "name": "stdout",
     "output_type": "stream",
     "text": [
      "1\n",
      "3\n",
      "5\n",
      "7\n"
     ]
    }
   ],
   "source": [
    "import numpy as np\n",
    "\n",
    "arr = np.array([[1, 2, 3, 4], [5, 6, 7, 8]])\n",
    "\n",
    "for x in np.nditer(arr[:, ::2]):\n",
    "  print(x)"
   ]
  },
  {
   "cell_type": "markdown",
   "id": "7515ab1e-7a94-4063-a802-8abd497873ef",
   "metadata": {},
   "source": [
    "2.ndenumerate()"
   ]
  },
  {
   "cell_type": "markdown",
   "id": "a7f0ec9f-9299-41b0-be96-6df74530928d",
   "metadata": {},
   "source": [
    "* Enumeration means mentioning sequence number of somethings one by one.\n",
    "* Sometimes we require corresponding index of the element while iterating, \n",
    "the ndenumerate() method can be used for those usecases."
   ]
  },
  {
   "cell_type": "code",
   "execution_count": 31,
   "id": "2e503f1f-8d13-4ba4-9f12-f424208409ca",
   "metadata": {},
   "outputs": [
    {
     "name": "stdout",
     "output_type": "stream",
     "text": [
      "(0,) 1\n",
      "(1,) 2\n",
      "(2,) 3\n"
     ]
    }
   ],
   "source": [
    "a1=np.array([1,2,3])\n",
    "for i,x in np.ndenumerate(a1):\n",
    "    print(i,x)"
   ]
  },
  {
   "cell_type": "code",
   "execution_count": null,
   "id": "298b8c35-e513-4690-a166-dc720690a68a",
   "metadata": {},
   "outputs": [],
   "source": [
    "a2=np.array([[1,2,3],[4,5,6]])\n",
    "for i,x in np.ndenumerate(a2):\n",
    "    print(i,x)"
   ]
  },
  {
   "cell_type": "markdown",
   "id": "ebf049ab-d05b-4873-9c4d-39526a6049d4",
   "metadata": {},
   "source": [
    "3.Join"
   ]
  },
  {
   "cell_type": "code",
   "execution_count": 33,
   "id": "5e357464-eb18-40bd-8cbb-dc42e7e58444",
   "metadata": {},
   "outputs": [
    {
     "data": {
      "text/plain": [
       "array([1, 2, 3, 4, 5, 6, 7, 8])"
      ]
     },
     "execution_count": 33,
     "metadata": {},
     "output_type": "execute_result"
    }
   ],
   "source": [
    "#concatenate()\n",
    "#1D\n",
    "a3=np.array([1,2,3,4])\n",
    "a4=np.array([5,6,7,8])\n",
    "a5=np.concatenate((a3,a4))\n",
    "a5"
   ]
  },
  {
   "cell_type": "code",
   "execution_count": 36,
   "id": "05cd8fa4-7403-4a03-ae06-97831eb5a053",
   "metadata": {},
   "outputs": [
    {
     "data": {
      "text/plain": [
       "array([[1, 2, 5, 6],\n",
       "       [3, 4, 7, 8]])"
      ]
     },
     "execution_count": 36,
     "metadata": {},
     "output_type": "execute_result"
    }
   ],
   "source": [
    "#2D\n",
    "arrr1=np.array([[1, 2], [3, 4]])\n",
    "arrr2=np.array([[5, 6], [7, 8]])\n",
    "arrr = np.concatenate((arrr1, arrr2), axis=1)\n",
    "arrr"
   ]
  },
  {
   "cell_type": "markdown",
   "id": "3d9ea8bd-c064-47f5-b1d4-f9c1624a215d",
   "metadata": {},
   "source": [
    "#stack()\n",
    "* Stacking is same as concatenation, the only difference is that stacking is done along a new axis.\n",
    "* We pass a sequence of arrays that we want to join to the stack() method along with the axis. \n",
    "If axis is not explicitly passed it is taken as 0."
   ]
  },
  {
   "cell_type": "code",
   "execution_count": 37,
   "id": "12836b63-0f8e-43bf-a276-2da32c9181c8",
   "metadata": {},
   "outputs": [
    {
     "data": {
      "text/plain": [
       "array([[1, 4],\n",
       "       [2, 5],\n",
       "       [3, 6]])"
      ]
     },
     "execution_count": 37,
     "metadata": {},
     "output_type": "execute_result"
    }
   ],
   "source": [
    "arr1 = np.array([1, 2, 3])\n",
    "arr2 = np.array([4, 5, 6])\n",
    "arr = np.stack((arr1, arr2), axis=1)\n",
    "arr"
   ]
  },
  {
   "cell_type": "code",
   "execution_count": 39,
   "id": "85b142f8-43b9-43a6-9f70-0f891400b249",
   "metadata": {},
   "outputs": [
    {
     "data": {
      "text/plain": [
       "array([1, 2, 3, 4, 5, 6])"
      ]
     },
     "execution_count": 39,
     "metadata": {},
     "output_type": "execute_result"
    }
   ],
   "source": [
    "# Stacking Along Rows - hstack()\n",
    "ar1 = np.array([1, 2, 3])\n",
    "ar2 = np.array([4, 5, 6])\n",
    "ar3 = np.hstack((ar1, ar2))\n",
    "ar3"
   ]
  },
  {
   "cell_type": "code",
   "execution_count": 41,
   "id": "bd263c6b-0dad-4e6c-b1f4-eb834dcc35e1",
   "metadata": {},
   "outputs": [
    {
     "data": {
      "text/plain": [
       "array([[1, 2, 3],\n",
       "       [4, 5, 6]])"
      ]
     },
     "execution_count": 41,
     "metadata": {},
     "output_type": "execute_result"
    }
   ],
   "source": [
    "# Stacking Along Columns - vstack()\n",
    "ar11 = np.array([1, 2, 3])\n",
    "ar22 = np.array([4, 5, 6])\n",
    "ar33 = np.vstack((ar11, ar22))\n",
    "ar33"
   ]
  },
  {
   "cell_type": "code",
   "execution_count": 43,
   "id": "2a3067eb-20ac-4b86-81df-49b82ad9492d",
   "metadata": {},
   "outputs": [
    {
     "data": {
      "text/plain": [
       "array([[[1, 4],\n",
       "        [2, 5],\n",
       "        [3, 6]]])"
      ]
     },
     "execution_count": 43,
     "metadata": {},
     "output_type": "execute_result"
    }
   ],
   "source": [
    "# Stacking Along Height (depth) - dstack()\n",
    "ar111 = np.array([1, 2, 3])\n",
    "ar222 = np.array([4, 5, 6])\n",
    "ar333 = np.dstack((ar111, ar222))\n",
    "ar333"
   ]
  },
  {
   "cell_type": "code",
   "execution_count": null,
   "id": "ad8cb6d9-2b08-41a7-96d2-b8befd94ea6d",
   "metadata": {},
   "outputs": [],
   "source": []
  }
 ],
 "metadata": {
  "kernelspec": {
   "display_name": "Python 3 (ipykernel)",
   "language": "python",
   "name": "python3"
  },
  "language_info": {
   "codemirror_mode": {
    "name": "ipython",
    "version": 3
   },
   "file_extension": ".py",
   "mimetype": "text/x-python",
   "name": "python",
   "nbconvert_exporter": "python",
   "pygments_lexer": "ipython3",
   "version": "3.12.4"
  }
 },
 "nbformat": 4,
 "nbformat_minor": 5
}
